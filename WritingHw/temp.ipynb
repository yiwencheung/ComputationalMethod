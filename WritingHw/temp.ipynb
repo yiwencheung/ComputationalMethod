{
 "cells": [
  {
   "cell_type": "code",
   "execution_count": 1,
   "id": "initial_id",
   "metadata": {
    "collapsed": true,
    "ExecuteTime": {
     "end_time": "2024-04-01T12:03:27.236454500Z",
     "start_time": "2024-04-01T12:03:27.231775700Z"
    }
   },
   "outputs": [],
   "source": [
    "def merge_sort(arr):\n",
    "    \"\"\"\n",
    "    :param arr:  array arr\n",
    "    :return:  sorted array\n",
    "    \"\"\"\n",
    "    # to combine merge sort and insertion sort, if 4 or less elements in the array, choose insertion sort\n",
    "    if len(arr) <= 4:  \n",
    "        return insertion_sort(arr)\n",
    "    else:\n",
    "        mid = len(arr) // 2\n",
    "        left_half = arr[:mid]\n",
    "        right_half = arr[mid:]\n",
    "\n",
    "        left_half = merge_sort(left_half)\n",
    "        right_half = merge_sort(right_half)\n",
    "\n",
    "        return merge(left_half, right_half)\n",
    "\n",
    "def insertion_sort(arr):\n",
    "    for i in range(1, len(arr)):\n",
    "        k = arr[i]\n",
    "        j = i - 1\n",
    "        while j >= 0 and arr[j] > k:\n",
    "            arr[j + 1] = arr[j]\n",
    "            j -= 1\n",
    "        arr[j + 1] = k\n",
    "    return arr\n",
    "\n",
    "def merge(left, right):\n",
    "    result = []\n",
    "    while left and right:\n",
    "        if left[0] <= right[0]:\n",
    "            result.append(left.pop(0))\n",
    "        else:\n",
    "            result.append(right.pop(0))\n",
    "    while left:\n",
    "        result.append(left.pop(0))\n",
    "    while right:\n",
    "        result.append(right.pop(0))\n",
    "    return result"
   ]
  },
  {
   "cell_type": "code",
   "execution_count": 2,
   "outputs": [
    {
     "data": {
      "text/plain": "[3, 6.1, 7, 9, 14, 16, 29, 37, 38, 40, 52, 57, 58, 66, 87, 93]"
     },
     "execution_count": 2,
     "metadata": {},
     "output_type": "execute_result"
    }
   ],
   "source": [
    "arr = [9,87,66,93,6.1,57,29,38,14,58,3,16,37,52,7,40]\n",
    "merge_sort(arr)"
   ],
   "metadata": {
    "collapsed": false,
    "ExecuteTime": {
     "end_time": "2024-04-01T12:09:25.342244100Z",
     "start_time": "2024-04-01T12:09:25.310239300Z"
    }
   },
   "id": "b6dfdb93485592ca"
  },
  {
   "cell_type": "code",
   "execution_count": 4,
   "outputs": [
    {
     "name": "stdout",
     "output_type": "stream",
     "text": [
      "Number of inversions: 3\n",
      "Sorted Array: [1, 2, 3, 4, 5, 8, 9, 10]\n"
     ]
    }
   ],
   "source": [
    "def count_inversions(a, left, right):\n",
    "    if left == right:\n",
    "        return 0\n",
    "    mid = left + (right - left) // 2\n",
    "    # 左边的逆序+右边的逆序，然后后面再求这两个的逆序\n",
    "    tmp = count_inversions(a, left, mid) + count_inversions(a, mid + 1, right)\n",
    "    i, j = left, mid + 1\n",
    "    k = 0\n",
    "    c = [0] * (right - left + 1)\n",
    "    # 相当于归并排序，只是中间步骤多了一步计数\n",
    "    # 这里的tmp+也是有顺序的，有数组前一半和后一半的区别\n",
    "    while i <= mid and j <= right:\n",
    "        if a[i] < a[j]:\n",
    "            # 这里不用计数\n",
    "            c[k] = a[i]\n",
    "            i += 1\n",
    "        else:\n",
    "            c[k] = a[j]\n",
    "            j += 1\n",
    "            # 计数\n",
    "            tmp += mid - i + 1\n",
    "        k += 1\n",
    "    # 补齐\n",
    "    if i > mid:\n",
    "        while j <= right:\n",
    "            c[k] = a[j]\n",
    "            j += 1\n",
    "            k += 1\n",
    "    else:\n",
    "        while i <= mid:\n",
    "            c[k] = a[i]\n",
    "            i += 1\n",
    "            k += 1\n",
    "    # 拷贝到原数组\n",
    "    for i in range(left, right + 1):\n",
    "        a[i] = c[i - left]\n",
    "    return tmp\n",
    "\n",
    "# 示例用法\n",
    "arr = [3, 1, 2, 5, 4, 8, 9, 10]\n",
    "print(\"Sorted Array:\", arr)\n"
   ],
   "metadata": {
    "collapsed": false,
    "ExecuteTime": {
     "end_time": "2024-04-01T12:41:22.620330700Z",
     "start_time": "2024-04-01T12:41:22.560364800Z"
    }
   },
   "id": "a7c0f9d84635b2af"
  },
  {
   "cell_type": "code",
   "execution_count": 1,
   "outputs": [],
   "source": [
    "import numpy as np\n",
    "\n",
    "a = np.array([[1,1,2,1],[-2,5,1,1]])\n",
    "b = a.transpose()"
   ],
   "metadata": {
    "collapsed": false,
    "ExecuteTime": {
     "end_time": "2024-04-15T07:09:22.218122100Z",
     "start_time": "2024-04-15T07:09:21.959011500Z"
    }
   },
   "id": "66f30a34d62aa8fb"
  },
  {
   "cell_type": "code",
   "execution_count": 4,
   "outputs": [
    {
     "data": {
      "text/plain": "array([[ 7,  6],\n       [ 6, 31]])"
     },
     "execution_count": 4,
     "metadata": {},
     "output_type": "execute_result"
    }
   ],
   "source": [
    "a@b"
   ],
   "metadata": {
    "collapsed": false,
    "ExecuteTime": {
     "end_time": "2024-04-15T07:09:32.729614300Z",
     "start_time": "2024-04-15T07:09:32.676395700Z"
    }
   },
   "id": "42272731b3a0e4a9"
  },
  {
   "cell_type": "code",
   "execution_count": 7,
   "outputs": [],
   "source": [
    "c = np.array([[1],[13.1], [7.9], [5.1]])"
   ],
   "metadata": {
    "collapsed": false,
    "ExecuteTime": {
     "end_time": "2024-04-15T07:11:06.206952700Z",
     "start_time": "2024-04-15T07:11:06.177547700Z"
    }
   },
   "id": "93f9f539db590be8"
  },
  {
   "cell_type": "code",
   "execution_count": 8,
   "outputs": [
    {
     "data": {
      "text/plain": "array([[35. ],\n       [76.5]])"
     },
     "execution_count": 8,
     "metadata": {},
     "output_type": "execute_result"
    }
   ],
   "source": [
    "a@c"
   ],
   "metadata": {
    "collapsed": false,
    "ExecuteTime": {
     "end_time": "2024-04-15T07:11:10.770880600Z",
     "start_time": "2024-04-15T07:11:10.750326200Z"
    }
   },
   "id": "99fc1e91af80c192"
  },
  {
   "cell_type": "code",
   "execution_count": 12,
   "outputs": [],
   "source": [
    "a = [[1,2,3], [5,6,7]]\n",
    "b = [[1,1,0], [0,1,0], [1,0,1]]\n",
    "\n",
    "result = [[sum(a*b for a,b in zip(a_row,b_col)) for b_col in zip(*b)] for a_row in a]"
   ],
   "metadata": {
    "collapsed": false,
    "ExecuteTime": {
     "end_time": "2024-04-24T14:09:34.076241800Z",
     "start_time": "2024-04-24T14:09:34.055410400Z"
    }
   },
   "id": "69dadb9c822a8c11"
  },
  {
   "cell_type": "code",
   "execution_count": 13,
   "outputs": [
    {
     "data": {
      "text/plain": "[[4, 3, 3], [12, 11, 7]]"
     },
     "execution_count": 13,
     "metadata": {},
     "output_type": "execute_result"
    }
   ],
   "source": [
    "result"
   ],
   "metadata": {
    "collapsed": false,
    "ExecuteTime": {
     "end_time": "2024-04-24T14:09:34.894651600Z",
     "start_time": "2024-04-24T14:09:34.874897500Z"
    }
   },
   "id": "b530df9ae8901bbd"
  },
  {
   "cell_type": "code",
   "execution_count": 16,
   "outputs": [],
   "source": [
    "def multi(a, b):\n",
    "    \n",
    "    a_row = len(a)\n",
    "    a_col = len(a[0])\n",
    "    b_row = len(b)\n",
    "    b_col = len(b[0])\n",
    "    \n",
    "    if(a_col != b_row):\n",
    "        print(\"Matrices cannot be multiplied!\")\n",
    "        return\n",
    "    \n",
    "    result = [[sum(a[i][k] * b[k][j] for k in range(a_col)) for j in range(b_col)] for i in range(a_row)]\n",
    "    return result"
   ],
   "metadata": {
    "collapsed": false,
    "ExecuteTime": {
     "end_time": "2024-04-24T14:17:37.214884600Z",
     "start_time": "2024-04-24T14:17:37.203263400Z"
    }
   },
   "id": "c33a75007d60a9f2"
  },
  {
   "cell_type": "code",
   "execution_count": 17,
   "outputs": [
    {
     "name": "stdout",
     "output_type": "stream",
     "text": [
      "[[4, 3, 3], [12, 11, 7]]\n"
     ]
    }
   ],
   "source": [
    "a = [[1,2,3], [5,6,7]]\n",
    "b = [[1,1,0], [0,1,0], [1,0,1]]\n",
    "print(multi(a,b))"
   ],
   "metadata": {
    "collapsed": false,
    "ExecuteTime": {
     "end_time": "2024-04-24T14:17:37.805365200Z",
     "start_time": "2024-04-24T14:17:37.783724300Z"
    }
   },
   "id": "9370cc0f4244c1a8"
  }
 ],
 "metadata": {
  "kernelspec": {
   "display_name": "Python 3",
   "language": "python",
   "name": "python3"
  },
  "language_info": {
   "codemirror_mode": {
    "name": "ipython",
    "version": 2
   },
   "file_extension": ".py",
   "mimetype": "text/x-python",
   "name": "python",
   "nbconvert_exporter": "python",
   "pygments_lexer": "ipython2",
   "version": "2.7.6"
  }
 },
 "nbformat": 4,
 "nbformat_minor": 5
}
