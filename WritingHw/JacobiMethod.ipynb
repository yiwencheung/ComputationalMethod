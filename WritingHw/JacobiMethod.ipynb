{
 "cells": [
  {
   "cell_type": "code",
   "execution_count": 2,
   "id": "initial_id",
   "metadata": {
    "collapsed": true,
    "ExecuteTime": {
     "end_time": "2024-03-31T11:30:33.587680700Z",
     "start_time": "2024-03-31T11:30:33.332250200Z"
    }
   },
   "outputs": [],
   "source": [
    "import numpy as np"
   ]
  },
  {
   "cell_type": "code",
   "execution_count": 4,
   "outputs": [],
   "source": [
    "a = np.array([[1.,0.,0.],[0.,0.7882,-0.6154],[0.,0.6154,0.7882]])\n",
    "b = np.array([[1.,-1.,0.],[-1.,2.,2.],[0.,2.,3.]])\n",
    "c = a.T"
   ],
   "metadata": {
    "collapsed": false,
    "ExecuteTime": {
     "end_time": "2024-03-31T08:24:11.585153300Z",
     "start_time": "2024-03-31T08:24:11.571256300Z"
    }
   },
   "id": "c5ff565dbd63b2e2"
  },
  {
   "cell_type": "code",
   "execution_count": 15,
   "outputs": [],
   "source": [
    "a = np.array([[4., -1. ,1.],[16., -2., -3.],[16., -3., -1.]])\n",
    "I = np.array([[1, 0, 0], [0, 1, 0] ,[0, 0, 1]])\n",
    "H1 = I - np.array([[360.1739953,-303.6520094, -303.6520094],[-303.6520094, 256., 256.], [-303.6520094, 256., 256.]])/436.0869977\n",
    "H2 = H1@a"
   ],
   "metadata": {
    "collapsed": false,
    "ExecuteTime": {
     "end_time": "2024-03-31T11:35:46.698143100Z",
     "start_time": "2024-03-31T11:35:46.666919900Z"
    }
   },
   "id": "1940d6668b9c66f5"
  },
  {
   "cell_type": "code",
   "execution_count": 16,
   "outputs": [
    {
     "data": {
      "text/plain": "array([[ 0.17407766,  0.69631062,  0.69631062],\n       [ 0.69631062,  0.41296117, -0.58703883],\n       [ 0.69631062, -0.58703883,  0.41296117]])"
     },
     "execution_count": 16,
     "metadata": {},
     "output_type": "execute_result"
    }
   ],
   "source": [
    "H1"
   ],
   "metadata": {
    "collapsed": false,
    "ExecuteTime": {
     "end_time": "2024-03-31T11:35:49.359592700Z",
     "start_time": "2024-03-31T11:35:49.335875600Z"
    }
   },
   "id": "2df75227dcb934f2"
  },
  {
   "cell_type": "code",
   "execution_count": 14,
   "outputs": [
    {
     "name": "stdout",
     "output_type": "stream",
     "text": [
      "[[ 2.29782506e+01 -3.65563078e+00 -2.61116484e+00]\n",
      " [ 1.83449522e-09  2.38883516e-01  4.44659355e-02]\n",
      " [ 1.83449522e-09 -7.61116484e-01  2.04446594e+00]]\n"
     ]
    }
   ],
   "source": [
    "print(H1@a)"
   ],
   "metadata": {
    "collapsed": false,
    "ExecuteTime": {
     "end_time": "2024-03-31T11:34:56.071961400Z",
     "start_time": "2024-03-31T11:34:56.036213Z"
    }
   },
   "id": "3aed439a80ea0c81"
  },
  {
   "cell_type": "code",
   "execution_count": 18,
   "outputs": [
    {
     "data": {
      "text/plain": "array([[ 2.29782506e+01, -3.65563078e+00, -2.61116484e+00],\n       [ 1.83449522e-09,  2.38883516e-01,  4.44659355e-02],\n       [ 1.83449522e-09, -7.61116484e-01,  2.04446594e+00]])"
     },
     "execution_count": 18,
     "metadata": {},
     "output_type": "execute_result"
    }
   ],
   "source": [
    "H2 "
   ],
   "metadata": {
    "collapsed": false,
    "ExecuteTime": {
     "end_time": "2024-03-31T11:40:02.807707300Z",
     "start_time": "2024-03-31T11:40:02.764021700Z"
    }
   },
   "id": "30a10ae5da6c799d"
  },
  {
   "cell_type": "code",
   "execution_count": 29,
   "outputs": [],
   "source": [
    "K = np.array([[0.312,0.4251],[0.4251, 0.579121]])/0.445604294"
   ],
   "metadata": {
    "collapsed": false,
    "ExecuteTime": {
     "end_time": "2024-03-31T11:53:41.294704100Z",
     "start_time": "2024-03-31T11:53:41.260494100Z"
    }
   },
   "id": "edd6fb057bd01dfc"
  },
  {
   "cell_type": "code",
   "execution_count": 21,
   "outputs": [],
   "source": [
    "A2 = np.array([[0.239, 0.044],[-0.761, 2.044]])"
   ],
   "metadata": {
    "collapsed": false,
    "ExecuteTime": {
     "end_time": "2024-03-31T11:42:55.851868400Z",
     "start_time": "2024-03-31T11:42:55.834174400Z"
    }
   },
   "id": "cec9d94b641fb45f"
  },
  {
   "cell_type": "code",
   "execution_count": 30,
   "outputs": [],
   "source": [
    "K = np.array([[1,0],[0,1]])-K;"
   ],
   "metadata": {
    "collapsed": false,
    "ExecuteTime": {
     "end_time": "2024-03-31T11:53:45.323474400Z",
     "start_time": "2024-03-31T11:53:45.297367300Z"
    }
   },
   "id": "69b44f8627bf7542"
  },
  {
   "cell_type": "code",
   "execution_count": 31,
   "outputs": [
    {
     "data": {
      "text/plain": "array([[ 0.29982721, -0.95398542],\n       [-0.95398542, -0.29963065]])"
     },
     "execution_count": 31,
     "metadata": {},
     "output_type": "execute_result"
    }
   ],
   "source": [
    "K "
   ],
   "metadata": {
    "collapsed": false,
    "ExecuteTime": {
     "end_time": "2024-03-31T11:53:45.884836Z",
     "start_time": "2024-03-31T11:53:45.859881900Z"
    }
   },
   "id": "8418be7bee925846"
  },
  {
   "cell_type": "code",
   "execution_count": 32,
   "outputs": [
    {
     "data": {
      "text/plain": "array([[ 7.97641609e-01, -1.93675380e+00],\n       [ 1.64120187e-05, -6.54420415e-01]])"
     },
     "execution_count": 32,
     "metadata": {},
     "output_type": "execute_result"
    }
   ],
   "source": [
    "K@A2"
   ],
   "metadata": {
    "collapsed": false,
    "ExecuteTime": {
     "end_time": "2024-03-31T11:53:51.989608900Z",
     "start_time": "2024-03-31T11:53:51.941844700Z"
    }
   },
   "id": "4aae902208756a0a"
  }
 ],
 "metadata": {
  "kernelspec": {
   "display_name": "Python 3",
   "language": "python",
   "name": "python3"
  },
  "language_info": {
   "codemirror_mode": {
    "name": "ipython",
    "version": 2
   },
   "file_extension": ".py",
   "mimetype": "text/x-python",
   "name": "python",
   "nbconvert_exporter": "python",
   "pygments_lexer": "ipython2",
   "version": "2.7.6"
  }
 },
 "nbformat": 4,
 "nbformat_minor": 5
}
