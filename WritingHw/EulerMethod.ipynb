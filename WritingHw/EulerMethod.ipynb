{
 "cells": [
  {
   "cell_type": "code",
   "execution_count": 2,
   "id": "initial_id",
   "metadata": {
    "collapsed": true,
    "ExecuteTime": {
     "end_time": "2024-05-14T02:18:59.807515700Z",
     "start_time": "2024-05-14T02:18:59.769510800Z"
    }
   },
   "outputs": [],
   "source": [
    "import numpy as np"
   ]
  },
  {
   "cell_type": "code",
   "execution_count": 3,
   "outputs": [],
   "source": [
    "def func(x, y):\n",
    "    return x**2 + y"
   ],
   "metadata": {
    "collapsed": false,
    "ExecuteTime": {
     "end_time": "2024-05-14T02:19:26.899779700Z",
     "start_time": "2024-05-14T02:19:26.875359400Z"
    }
   },
   "id": "ac6f9c8ac3c2a9dc"
  },
  {
   "cell_type": "code",
   "execution_count": 12,
   "outputs": [],
   "source": [
    "def EulerImprove(x0, y0, h, func, time):\n",
    "    x = x0\n",
    "    y = y0\n",
    "    for i in range(time):\n",
    "        y_bar = y + h * func(x, y)\n",
    "        y += h/2 * (func(x,y) + func(x+h, y_bar))\n",
    "        x += h\n",
    "        print(f\"i:{i}, x:{x}, y:{y}\")"
   ],
   "metadata": {
    "collapsed": false,
    "ExecuteTime": {
     "end_time": "2024-05-14T02:33:16.707077400Z",
     "start_time": "2024-05-14T02:33:16.688248100Z"
    }
   },
   "id": "7f86063688397641"
  },
  {
   "cell_type": "code",
   "execution_count": 13,
   "outputs": [
    {
     "name": "stdout",
     "output_type": "stream",
     "text": [
      "i:0, x:0.8, y:0.6759999999999999\n",
      "i:1, x:0.6000000000000001, y:0.4671199999999999\n",
      "i:2, x:0.4000000000000001, y:0.33823839999999994\n",
      "i:3, x:0.20000000000000007, y:0.26055548799999995\n",
      "i:4, x:5.551115123125783e-17, y:0.21045550015999995\n"
     ]
    }
   ],
   "source": [
    "EulerImprove(1, 1, -0.2, func, 5)"
   ],
   "metadata": {
    "collapsed": false,
    "ExecuteTime": {
     "end_time": "2024-05-14T02:33:17.452116900Z",
     "start_time": "2024-05-14T02:33:17.440016Z"
    }
   },
   "id": "9817a6e48506e69f"
  }
 ],
 "metadata": {
  "kernelspec": {
   "display_name": "Python 3",
   "language": "python",
   "name": "python3"
  },
  "language_info": {
   "codemirror_mode": {
    "name": "ipython",
    "version": 2
   },
   "file_extension": ".py",
   "mimetype": "text/x-python",
   "name": "python",
   "nbconvert_exporter": "python",
   "pygments_lexer": "ipython2",
   "version": "2.7.6"
  }
 },
 "nbformat": 4,
 "nbformat_minor": 5
}
