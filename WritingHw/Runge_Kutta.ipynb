{
 "cells": [
  {
   "cell_type": "code",
   "execution_count": 14,
   "outputs": [],
   "source": [
    "import math"
   ],
   "metadata": {
    "collapsed": false,
    "ExecuteTime": {
     "end_time": "2024-05-19T03:36:31.575604Z",
     "start_time": "2024-05-19T03:36:31.560606700Z"
    }
   },
   "id": "7e633d04d3d81cbd"
  },
  {
   "cell_type": "code",
   "execution_count": 1,
   "id": "initial_id",
   "metadata": {
    "collapsed": true,
    "ExecuteTime": {
     "end_time": "2024-05-19T03:20:16.775650200Z",
     "start_time": "2024-05-19T03:20:16.763194900Z"
    }
   },
   "outputs": [],
   "source": [
    "def func(x, y):\n",
    "    return x/y"
   ]
  },
  {
   "cell_type": "code",
   "execution_count": 16,
   "outputs": [],
   "source": [
    "def func_real(x):\n",
    "    return math.sqrt(x*x -3)"
   ],
   "metadata": {
    "collapsed": false,
    "ExecuteTime": {
     "end_time": "2024-05-19T03:36:41.770564200Z",
     "start_time": "2024-05-19T03:36:41.758556900Z"
    }
   },
   "id": "af222d0dc42b9e56"
  },
  {
   "cell_type": "code",
   "execution_count": 9,
   "outputs": [],
   "source": [
    "def Runge_Kutta(h, x0, x_f, y0, func, func_real):\n",
    "    x = x0\n",
    "    y = y0\n",
    "    while x <= x_f:\n",
    "        k1 = func(x, y)\n",
    "        k2 = func(x + h/3, y + h*k1/3)\n",
    "        k3 = func(x + 2*h/3, y+ h*k1/3+h*k2)\n",
    "        k4 = func(x + h, y + h*(k1-k2+k3))\n",
    "        \n",
    "        y += h/8 * (k1 + 3*k2 + 3*k3 + k4)\n",
    "        x += h\n",
    "        y_xn = func_real(x)\n",
    "        print(f\"x:{x}, y:{y}, y_xn:{y_xn}, dis:{y-y_xn}\")"
   ],
   "metadata": {
    "collapsed": false,
    "ExecuteTime": {
     "end_time": "2024-05-19T03:32:13.945674600Z",
     "start_time": "2024-05-19T03:32:13.931669500Z"
    }
   },
   "id": "7fc5b0ea7c72ac4a"
  },
  {
   "cell_type": "code",
   "execution_count": 17,
   "outputs": [
    {
     "name": "stdout",
     "output_type": "stream",
     "text": [
      "x:2.2, y:1.3352341558314431, y_xn:1.3564659966250538, dis:-0.021231840793610735\n",
      "x:2.4000000000000004, y:1.6306863654473538, y_xn:1.6613247725836155, dis:-0.03063840713626176\n",
      "x:2.6000000000000005, y:1.9031920563360891, y_xn:1.9390719429665322, dis:-0.03587988663044306\n"
     ]
    }
   ],
   "source": [
    "Runge_Kutta(0.2, 2.0, 2.6, 1.0, func,func_real)"
   ],
   "metadata": {
    "collapsed": false,
    "ExecuteTime": {
     "end_time": "2024-05-19T03:36:44.099890500Z",
     "start_time": "2024-05-19T03:36:44.083894300Z"
    }
   },
   "id": "99e5397b9bd9ea43"
  }
 ],
 "metadata": {
  "kernelspec": {
   "display_name": "Python 3",
   "language": "python",
   "name": "python3"
  },
  "language_info": {
   "codemirror_mode": {
    "name": "ipython",
    "version": 2
   },
   "file_extension": ".py",
   "mimetype": "text/x-python",
   "name": "python",
   "nbconvert_exporter": "python",
   "pygments_lexer": "ipython2",
   "version": "2.7.6"
  }
 },
 "nbformat": 4,
 "nbformat_minor": 5
}
