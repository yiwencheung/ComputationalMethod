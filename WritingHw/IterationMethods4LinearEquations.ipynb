{
 "cells": [
  {
   "cell_type": "code",
   "execution_count": 2,
   "id": "initial_id",
   "metadata": {
    "collapsed": true,
    "ExecuteTime": {
     "end_time": "2024-03-08T12:08:44.372646100Z",
     "start_time": "2024-03-08T12:08:44.347315100Z"
    }
   },
   "outputs": [],
   "source": [
    "import numpy as np"
   ]
  },
  {
   "cell_type": "code",
   "execution_count": 3,
   "outputs": [],
   "source": [
    "def Jacobi(R, b, X0, IteTimes):\n",
    "    '''\n",
    "    :param R:  iteration matrix .\n",
    "    :param X0: value at the beginning. \n",
    "    :param b: constant vector\n",
    "    :param IteTimes: times that the iteration will be executed.\n",
    "    :return: final value X\n",
    "    '''\n",
    "    X = X0\n",
    "    for i in range(IteTimes):\n",
    "        X = R @ X + b\n",
    "        print(f\"i = {i+1}, X = {X}\")\n",
    "        \n",
    "    return X"
   ],
   "metadata": {
    "collapsed": false,
    "ExecuteTime": {
     "end_time": "2024-03-08T12:16:42.829581400Z",
     "start_time": "2024-03-08T12:16:42.808189100Z"
    }
   },
   "id": "89900ae049d54cda"
  },
  {
   "cell_type": "code",
   "execution_count": 5,
   "outputs": [
    {
     "name": "stdout",
     "output_type": "stream",
     "text": [
      "i = 1, X = [-0.5  0.   0.8]\n",
      "i = 2, X = [-0.9 -1.9  1.1]\n",
      "i = 3, X = [-2.   -2.4   2.48]\n",
      "i = 4, X = [-2.94 -5.44  3.44]\n",
      "i = 5, X = [-4.94  -7.38   5.828]\n",
      "i = 6, X = [ -7.104 -12.544   8.192]\n",
      "i = 7, X = [-10.868  -17.472   12.5888]\n",
      "i = 8, X = [-15.5304 -26.8984  17.804 ]\n",
      "i = 9, X = [-22.8512  -37.8816   26.25728]\n",
      "i = 10, X = [-32.56944 -55.92064  37.23968]\n"
     ]
    },
    {
     "data": {
      "text/plain": "array([-32.56944, -55.92064,  37.23968])"
     },
     "execution_count": 5,
     "metadata": {},
     "output_type": "execute_result"
    }
   ],
   "source": [
    "R = np.array([[0., 0.5, -0.5],[-1., 0., -3.],[-0.6, -0.6, 0.]])\n",
    "X0 = np.array([0., 0., 0.])\n",
    "b = np.array([-0.5, 0., 0.8])\n",
    "\n",
    "Jacobi(R,b,X0,10)"
   ],
   "metadata": {
    "collapsed": false,
    "ExecuteTime": {
     "end_time": "2024-03-08T12:20:23.136636200Z",
     "start_time": "2024-03-08T12:20:23.089039200Z"
    }
   },
   "id": "f0965cd7c8c649e0"
  }
 ],
 "metadata": {
  "kernelspec": {
   "display_name": "Python 3",
   "language": "python",
   "name": "python3"
  },
  "language_info": {
   "codemirror_mode": {
    "name": "ipython",
    "version": 2
   },
   "file_extension": ".py",
   "mimetype": "text/x-python",
   "name": "python",
   "nbconvert_exporter": "python",
   "pygments_lexer": "ipython2",
   "version": "2.7.6"
  }
 },
 "nbformat": 4,
 "nbformat_minor": 5
}
