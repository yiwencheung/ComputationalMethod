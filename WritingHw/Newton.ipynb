{
 "cells": [
  {
   "cell_type": "markdown",
   "source": [
    "# T7"
   ],
   "metadata": {
    "collapsed": false
   },
   "id": "4333b2b4db99ac44"
  },
  {
   "cell_type": "code",
   "execution_count": 16,
   "outputs": [],
   "source": [
    "def f2(x):\n",
    "    return x**3-3*x-2"
   ],
   "metadata": {
    "collapsed": false,
    "ExecuteTime": {
     "end_time": "2024-03-06T12:13:49.834372400Z",
     "start_time": "2024-03-06T12:13:49.824942500Z"
    }
   },
   "id": "287f70d475e1c535"
  },
  {
   "cell_type": "code",
   "execution_count": 17,
   "id": "initial_id",
   "metadata": {
    "collapsed": true,
    "ExecuteTime": {
     "end_time": "2024-03-06T12:13:51.391029100Z",
     "start_time": "2024-03-06T12:13:51.386026500Z"
    }
   },
   "outputs": [],
   "source": [
    "def SecantMethod(x0,x1,f,epsilon,Maxrepeat):\n",
    "    for i in range(2,Maxrepeat):\n",
    "        f0 = f(x0); f1 = f(x1)\n",
    "        x = x1 - f1*(x1-x0)/(f1-f0)\n",
    "        print(f\"k={i}, xk={x}, f(xk)={f(x)}\")\n",
    "        if abs(x-x1)<=epsilon or abs(f(x))<=epsilon:\n",
    "            break\n",
    "        x0,x1 = x1,x"
   ]
  },
  {
   "cell_type": "code",
   "execution_count": 19,
   "outputs": [
    {
     "name": "stdout",
     "output_type": "stream",
     "text": [
      "16\n",
      "k=2, xk=1.4, f(xk)=-3.456\n",
      "k=3, xk=1.6842105263157894, f(xk)=-2.2752587840793126\n",
      "k=4, xk=2.231877100336054, f(xk)=2.4219631746422445\n",
      "k=5, xk=1.949491408129894, f(xk)=-0.43939947308518246\n",
      "k=6, xk=1.992855406209875, f(xk)=-0.06399543748593484\n",
      "k=7, xk=2.000247702949141, f(xk)=0.0022296946979736276\n",
      "k=8, xk=1.999998816094531, f(xk)=-1.0655140810555963e-05\n"
     ]
    }
   ],
   "source": [
    "print(f2(3))\n",
    "SecantMethod(1,3,f2,0.001,100)"
   ],
   "metadata": {
    "collapsed": false,
    "ExecuteTime": {
     "end_time": "2024-03-06T12:18:14.196287800Z",
     "start_time": "2024-03-06T12:18:14.181770800Z"
    }
   },
   "id": "dde0eb63cb513d71"
  },
  {
   "cell_type": "markdown",
   "source": [
    "# T8"
   ],
   "metadata": {
    "collapsed": false
   },
   "id": "db72173f24a5f750"
  },
  {
   "cell_type": "code",
   "execution_count": 32,
   "outputs": [],
   "source": [
    "from gekko import GEKKO\n",
    "\n",
    "def solve(a1,b1,c1,a2,b2,c2):\n",
    "    \"\"\"\n",
    "    solve: a1x+b1y=c1\n",
    "           a2x+b2y=c2\n",
    "    return: x,y\n",
    "    \"\"\"\n",
    "    m = GEKKO()\n",
    "    x = m.Var()\n",
    "    y = m.Var()\n",
    "    m.Equations([a1*x + b1*y == c1,\n",
    "                 a2*x+b2*y == c2,])\n",
    "    m.solve(disp=False)\n",
    "    x,y = x.value,y.value\n",
    "    return x[0],y[0]"
   ],
   "metadata": {
    "collapsed": false,
    "ExecuteTime": {
     "end_time": "2024-03-06T12:41:59.330132400Z",
     "start_time": "2024-03-06T12:41:59.316135100Z"
    }
   },
   "id": "c33873dac4d6c5a6"
  },
  {
   "cell_type": "code",
   "execution_count": 38,
   "outputs": [],
   "source": [
    "def Newton_NonLinear(x0,y0,f,g,epsilon, Maxrepeat):\n",
    "    x = x0; y = y0\n",
    "    for i in range(1,Maxrepeat):\n",
    "        f1 = f(x,y); f2 = g(x,y)\n",
    "        print(f\"k={i}, x={x}, y={y}, f1={f1}, f2={f2}\")\n",
    "        delta_x,delta_y = solve(2*x, 2*y, -f1, 3*x**2, -1, -f2)\n",
    "        x += delta_x; y += delta_y\n",
    "        print(f\"\\t dx={delta_x}, dy={delta_y}, x={x}, y={y}\")\n",
    "        if abs(delta_x)<=epsilon and abs(delta_y)<=epsilon:\n",
    "            break"
   ],
   "metadata": {
    "collapsed": false,
    "ExecuteTime": {
     "end_time": "2024-03-06T12:47:23.196202600Z",
     "start_time": "2024-03-06T12:47:23.183152Z"
    }
   },
   "id": "13ef0ca57395a7df"
  },
  {
   "cell_type": "code",
   "execution_count": 34,
   "outputs": [],
   "source": [
    "def func1(x,y):\n",
    "    return x**2+y**2-1\n",
    "def func2(x,y):\n",
    "    return x**3-y"
   ],
   "metadata": {
    "collapsed": false,
    "ExecuteTime": {
     "end_time": "2024-03-06T12:42:00.253557300Z",
     "start_time": "2024-03-06T12:42:00.245559300Z"
    }
   },
   "id": "d39842f106c6a6d2"
  },
  {
   "cell_type": "code",
   "execution_count": 39,
   "outputs": [
    {
     "name": "stdout",
     "output_type": "stream",
     "text": [
      "k=1, x=0.8, y=0.6, f1=0.0, f2=-0.08799999999999986\n",
      "\t dx=0.027049180328, dy=-0.03606557377, x=0.827049180328, y=0.56393442623\n",
      "k=2, x=0.827049180328, y=0.56393442623, f1=0.0020323837685758406, f2=0.0017757703285713466\n",
      "\t dx=-0.0010168071604, dy=-0.00031074952621, x=0.8260323731676, y=0.56362367670379\n",
      "k=3, x=0.8260323731676, y=0.56362367670379, f1=1.1304619955687656e-06, f2=2.5641991348024362e-06\n",
      "\t dx=-1.0155123655e-06, dy=4.8545705726e-07, x=0.8260313576552345, y=0.5636241621608472\n"
     ]
    }
   ],
   "source": [
    "Newton_NonLinear(0.8,0.6,func1,func2,0.001,50)"
   ],
   "metadata": {
    "collapsed": false,
    "ExecuteTime": {
     "end_time": "2024-03-06T12:47:46.378610800Z",
     "start_time": "2024-03-06T12:47:25.656541100Z"
    }
   },
   "id": "ea794684c8374673"
  },
  {
   "cell_type": "code",
   "execution_count": null,
   "outputs": [],
   "source": [],
   "metadata": {
    "collapsed": false
   },
   "id": "63ea2cf00f1a2e20"
  }
 ],
 "metadata": {
  "kernelspec": {
   "display_name": "Python 3",
   "language": "python",
   "name": "python3"
  },
  "language_info": {
   "codemirror_mode": {
    "name": "ipython",
    "version": 2
   },
   "file_extension": ".py",
   "mimetype": "text/x-python",
   "name": "python",
   "nbconvert_exporter": "python",
   "pygments_lexer": "ipython2",
   "version": "2.7.6"
  }
 },
 "nbformat": 4,
 "nbformat_minor": 5
}
